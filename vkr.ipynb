{
 "cells": [
  {
   "cell_type": "code",
   "execution_count": 1,
   "id": "44d3f3af",
   "metadata": {},
   "outputs": [],
   "source": [
    "import os\n",
    "import pandas as pd\n",
    "import numpy as np\n",
    "import matplotlib.pyplot as plt\n",
    "import seaborn as sns\n",
    "import plotly.express as px\n",
    "import plotly.graph_objects as go\n",
    "import random"
   ]
  },
  {
   "cell_type": "code",
   "execution_count": 2,
   "id": "8a1abd75",
   "metadata": {},
   "outputs": [
    {
     "name": "stdout",
     "output_type": "stream",
     "text": [
      "\n",
      "=== POZNÁMKA K ROZLOŽENÍ DAT ===\n",
      "Z histogramů je patrné, že některá kritéria nemají normální rozložení.\n",
      "Pro metody WSA a TOPSIS to však není problém - tyto metody nevyžadují normalitu dat.\n",
      "Důvody pro nenormální rozložení mohou být:\n",
      "1. Jedná se o reálná data z trhu s nemovitostmi, která často nemají normální rozložení\n",
      "2. Velikost vzorku (50 bytů) je relativně malá pro zajištění normálního rozložení\n",
      "3. Specifická povaha kritérií - například ceny bytů v centru města bývají výrazně vyšší\n",
      "\n",
      "Tato skutečnost neovlivňuje validitu výsledků vícekriteriální analýzy, protože:\n",
      "- Metody WSA a TOPSIS pracují s normalizovanými hodnotami\n",
      "- Nenormální rozložení je typické pro reálná data z trhu s nemovitostmi\n",
      "- V rámci vícekriteriálního rozhodování nás zajímá především relativní porovnání variant\n"
     ]
    }
   ],
   "source": [
    "# Poznámka k rozložení dat\n",
    "print(\"\\n=== POZNÁMKA K ROZLOŽENÍ DAT ===\")\n",
    "print(\"Z histogramů je patrné, že některá kritéria nemají normální rozložení.\")\n",
    "print(\"Pro metody WSA a TOPSIS to však není problém - tyto metody nevyžadují normalitu dat.\")\n",
    "print(\"Důvody pro nenormální rozložení mohou být:\")\n",
    "print(\"1. Jedná se o reálná data z trhu s nemovitostmi, která často nemají normální rozložení\")\n",
    "print(\"2. Velikost vzorku (50 bytů) je relativně malá pro zajištění normálního rozložení\")\n",
    "print(\"3. Specifická povaha kritérií - například ceny bytů v centru města bývají výrazně vyšší\")\n",
    "print(\"\\nTato skutečnost neovlivňuje validitu výsledků vícekriteriální analýzy, protože:\")\n",
    "print(\"- Metody WSA a TOPSIS pracují s normalizovanými hodnotami\")\n",
    "print(\"- Nenormální rozložení je typické pro reálná data z trhu s nemovitostmi\")\n",
    "print(\"- V rámci vícekriteriálního rozhodování nás zajímá především relativní porovnání variant\")"
   ]
  },
  {
   "cell_type": "code",
   "execution_count": 3,
   "id": "802d2456",
   "metadata": {},
   "outputs": [
    {
     "name": "stdout",
     "output_type": "stream",
     "text": [
      "Data načtena ze souboru: dataset/byty.csv\n",
      "Přehled dat:\n"
     ]
    },
    {
     "data": {
      "text/html": [
       "<div>\n",
       "<style scoped>\n",
       "    .dataframe tbody tr th:only-of-type {\n",
       "        vertical-align: middle;\n",
       "    }\n",
       "\n",
       "    .dataframe tbody tr th {\n",
       "        vertical-align: top;\n",
       "    }\n",
       "\n",
       "    .dataframe thead th {\n",
       "        text-align: right;\n",
       "    }\n",
       "</style>\n",
       "<table border=\"1\" class=\"dataframe\">\n",
       "  <thead>\n",
       "    <tr style=\"text-align: right;\">\n",
       "      <th></th>\n",
       "      <th>Lokalita</th>\n",
       "      <th>Cena nájmu (Kč/měsíc)</th>\n",
       "      <th>Vzdálenost od pracoviště (min)</th>\n",
       "      <th>Plocha bytu (m²)</th>\n",
       "      <th>Stav bytu (1-10)</th>\n",
       "      <th>Okolí a občanská vybavenost (1-10)</th>\n",
       "      <th>Hlučnost (dB)</th>\n",
       "    </tr>\n",
       "    <tr>\n",
       "      <th>Číslo inzerátu</th>\n",
       "      <th></th>\n",
       "      <th></th>\n",
       "      <th></th>\n",
       "      <th></th>\n",
       "      <th></th>\n",
       "      <th></th>\n",
       "      <th></th>\n",
       "    </tr>\n",
       "  </thead>\n",
       "  <tbody>\n",
       "    <tr>\n",
       "      <th>93810</th>\n",
       "      <td>Praha 1 - Staré Město</td>\n",
       "      <td>25000</td>\n",
       "      <td>15</td>\n",
       "      <td>48</td>\n",
       "      <td>8</td>\n",
       "      <td>10</td>\n",
       "      <td>65</td>\n",
       "    </tr>\n",
       "    <tr>\n",
       "      <th>24592</th>\n",
       "      <td>Praha 1 - Nové Město</td>\n",
       "      <td>23500</td>\n",
       "      <td>18</td>\n",
       "      <td>52</td>\n",
       "      <td>7</td>\n",
       "      <td>9</td>\n",
       "      <td>62</td>\n",
       "    </tr>\n",
       "    <tr>\n",
       "      <th>13278</th>\n",
       "      <td>Praha 2 - Vinohrady</td>\n",
       "      <td>19800</td>\n",
       "      <td>22</td>\n",
       "      <td>55</td>\n",
       "      <td>8</td>\n",
       "      <td>9</td>\n",
       "      <td>56</td>\n",
       "    </tr>\n",
       "    <tr>\n",
       "      <th>46048</th>\n",
       "      <td>Praha 2 - Nusle</td>\n",
       "      <td>17500</td>\n",
       "      <td>25</td>\n",
       "      <td>62</td>\n",
       "      <td>6</td>\n",
       "      <td>7</td>\n",
       "      <td>54</td>\n",
       "    </tr>\n",
       "    <tr>\n",
       "      <th>42098</th>\n",
       "      <td>Praha 3 - Žižkov</td>\n",
       "      <td>16800</td>\n",
       "      <td>30</td>\n",
       "      <td>58</td>\n",
       "      <td>5</td>\n",
       "      <td>8</td>\n",
       "      <td>60</td>\n",
       "    </tr>\n",
       "  </tbody>\n",
       "</table>\n",
       "</div>"
      ],
      "text/plain": [
       "                             Lokalita  Cena nájmu (Kč/měsíc)  \\\n",
       "Číslo inzerátu                                                 \n",
       "93810           Praha 1 - Staré Město                  25000   \n",
       "24592            Praha 1 - Nové Město                  23500   \n",
       "13278             Praha 2 - Vinohrady                  19800   \n",
       "46048                 Praha 2 - Nusle                  17500   \n",
       "42098                Praha 3 - Žižkov                  16800   \n",
       "\n",
       "                Vzdálenost od pracoviště (min)  Plocha bytu (m²)  \\\n",
       "Číslo inzerátu                                                     \n",
       "93810                                       15                48   \n",
       "24592                                       18                52   \n",
       "13278                                       22                55   \n",
       "46048                                       25                62   \n",
       "42098                                       30                58   \n",
       "\n",
       "                Stav bytu (1-10)  Okolí a občanská vybavenost (1-10)  \\\n",
       "Číslo inzerátu                                                         \n",
       "93810                          8                                  10   \n",
       "24592                          7                                   9   \n",
       "13278                          8                                   9   \n",
       "46048                          6                                   7   \n",
       "42098                          5                                   8   \n",
       "\n",
       "                Hlučnost (dB)  \n",
       "Číslo inzerátu                 \n",
       "93810                      65  \n",
       "24592                      62  \n",
       "13278                      56  \n",
       "46048                      54  \n",
       "42098                      60  "
      ]
     },
     "metadata": {},
     "output_type": "display_data"
    },
    {
     "name": "stdout",
     "output_type": "stream",
     "text": [
      "\n",
      "Základní statistiky:\n"
     ]
    },
    {
     "data": {
      "text/html": [
       "<div>\n",
       "<style scoped>\n",
       "    .dataframe tbody tr th:only-of-type {\n",
       "        vertical-align: middle;\n",
       "    }\n",
       "\n",
       "    .dataframe tbody tr th {\n",
       "        vertical-align: top;\n",
       "    }\n",
       "\n",
       "    .dataframe thead th {\n",
       "        text-align: right;\n",
       "    }\n",
       "</style>\n",
       "<table border=\"1\" class=\"dataframe\">\n",
       "  <thead>\n",
       "    <tr style=\"text-align: right;\">\n",
       "      <th></th>\n",
       "      <th>Cena nájmu (Kč/měsíc)</th>\n",
       "      <th>Vzdálenost od pracoviště (min)</th>\n",
       "      <th>Plocha bytu (m²)</th>\n",
       "      <th>Stav bytu (1-10)</th>\n",
       "      <th>Okolí a občanská vybavenost (1-10)</th>\n",
       "      <th>Hlučnost (dB)</th>\n",
       "    </tr>\n",
       "  </thead>\n",
       "  <tbody>\n",
       "    <tr>\n",
       "      <th>count</th>\n",
       "      <td>50.000000</td>\n",
       "      <td>50.000000</td>\n",
       "      <td>50.000000</td>\n",
       "      <td>50.000000</td>\n",
       "      <td>50.000000</td>\n",
       "      <td>50.00000</td>\n",
       "    </tr>\n",
       "    <tr>\n",
       "      <th>mean</th>\n",
       "      <td>17950.000000</td>\n",
       "      <td>28.180000</td>\n",
       "      <td>60.160000</td>\n",
       "      <td>6.820000</td>\n",
       "      <td>7.240000</td>\n",
       "      <td>54.52000</td>\n",
       "    </tr>\n",
       "    <tr>\n",
       "      <th>std</th>\n",
       "      <td>3565.094383</td>\n",
       "      <td>8.125772</td>\n",
       "      <td>9.879602</td>\n",
       "      <td>1.256656</td>\n",
       "      <td>1.546028</td>\n",
       "      <td>4.71316</td>\n",
       "    </tr>\n",
       "    <tr>\n",
       "      <th>min</th>\n",
       "      <td>13800.000000</td>\n",
       "      <td>12.000000</td>\n",
       "      <td>40.000000</td>\n",
       "      <td>5.000000</td>\n",
       "      <td>5.000000</td>\n",
       "      <td>46.00000</td>\n",
       "    </tr>\n",
       "    <tr>\n",
       "      <th>25%</th>\n",
       "      <td>15275.000000</td>\n",
       "      <td>22.000000</td>\n",
       "      <td>52.250000</td>\n",
       "      <td>6.000000</td>\n",
       "      <td>6.000000</td>\n",
       "      <td>51.00000</td>\n",
       "    </tr>\n",
       "    <tr>\n",
       "      <th>50%</th>\n",
       "      <td>17000.000000</td>\n",
       "      <td>28.000000</td>\n",
       "      <td>61.500000</td>\n",
       "      <td>7.000000</td>\n",
       "      <td>7.000000</td>\n",
       "      <td>54.00000</td>\n",
       "    </tr>\n",
       "    <tr>\n",
       "      <th>75%</th>\n",
       "      <td>19425.000000</td>\n",
       "      <td>35.000000</td>\n",
       "      <td>68.000000</td>\n",
       "      <td>8.000000</td>\n",
       "      <td>8.000000</td>\n",
       "      <td>57.75000</td>\n",
       "    </tr>\n",
       "    <tr>\n",
       "      <th>max</th>\n",
       "      <td>29000.000000</td>\n",
       "      <td>45.000000</td>\n",
       "      <td>78.000000</td>\n",
       "      <td>9.000000</td>\n",
       "      <td>10.000000</td>\n",
       "      <td>66.00000</td>\n",
       "    </tr>\n",
       "  </tbody>\n",
       "</table>\n",
       "</div>"
      ],
      "text/plain": [
       "       Cena nájmu (Kč/měsíc)  Vzdálenost od pracoviště (min)  \\\n",
       "count              50.000000                       50.000000   \n",
       "mean            17950.000000                       28.180000   \n",
       "std              3565.094383                        8.125772   \n",
       "min             13800.000000                       12.000000   \n",
       "25%             15275.000000                       22.000000   \n",
       "50%             17000.000000                       28.000000   \n",
       "75%             19425.000000                       35.000000   \n",
       "max             29000.000000                       45.000000   \n",
       "\n",
       "       Plocha bytu (m²)  Stav bytu (1-10)  Okolí a občanská vybavenost (1-10)  \\\n",
       "count         50.000000         50.000000                           50.000000   \n",
       "mean          60.160000          6.820000                            7.240000   \n",
       "std            9.879602          1.256656                            1.546028   \n",
       "min           40.000000          5.000000                            5.000000   \n",
       "25%           52.250000          6.000000                            6.000000   \n",
       "50%           61.500000          7.000000                            7.000000   \n",
       "75%           68.000000          8.000000                            8.000000   \n",
       "max           78.000000          9.000000                           10.000000   \n",
       "\n",
       "       Hlučnost (dB)  \n",
       "count       50.00000  \n",
       "mean        54.52000  \n",
       "std          4.71316  \n",
       "min         46.00000  \n",
       "25%         51.00000  \n",
       "50%         54.00000  \n",
       "75%         57.75000  \n",
       "max         66.00000  "
      ]
     },
     "metadata": {},
     "output_type": "display_data"
    }
   ],
   "source": [
    "# 1. Načtení dat\n",
    "\n",
    "# Generování syntetických dat pro analýzu\n",
    "random.seed(42)  # Generování fiktivních čísel inzerátů (5-místné náhodné číslo, seed 42 pro reprodukovatelnost)\n",
    "inzerat_ids = random.sample(range(10000, 99999), 50)\n",
    "\n",
    "seed_data = {\n",
    "    'Číslo inzerátu': inzerat_ids,\n",
    "    'Lokalita': [\n",
    "        'Praha 1 - Staré Město', 'Praha 1 - Nové Město', 'Praha 2 - Vinohrady', 'Praha 2 - Nusle',\n",
    "        'Praha 3 - Žižkov', 'Praha 3 - Jarov', 'Praha 4 - Nusle', 'Praha 4 - Michle',\n",
    "        'Praha 4 - Podolí', 'Praha 5 - Smíchov', 'Praha 5 - Košíře', 'Praha 6 - Dejvice',\n",
    "        'Praha 6 - Břevnov', 'Praha 7 - Holešovice', 'Praha 7 - Letná', 'Praha 8 - Karlín',\n",
    "        'Praha 8 - Libeň', 'Praha 9 - Vysočany', 'Praha 9 - Prosek', 'Praha 10 - Vršovice',\n",
    "        'Praha 10 - Strašnice', 'Praha 1 - Josefov', 'Praha 2 - Vyšehrad', 'Praha 3 - Vinohradská',\n",
    "        'Praha 4 - Pankrác', 'Praha 5 - Anděl', 'Praha 6 - Hradčanská', 'Praha 7 - Výstaviště',\n",
    "        'Praha 8 - Kobylisy', 'Praha 9 - Černý Most', 'Praha 10 - Malešice', 'Praha 1 - Malá Strana',\n",
    "        'Praha 2 - Albertov', 'Praha 3 - Flora', 'Praha 4 - Budějovická', 'Praha 5 - Radlice',\n",
    "        'Praha 6 - Petřiny', 'Praha 7 - Bubeneč', 'Praha 8 - Bohnice', 'Praha 9 - Střížkov',\n",
    "        'Praha 10 - Záběhlice', 'Praha 1 - Můstek', 'Praha 2 - Náměstí Míru', 'Praha 3 - Ohrada',\n",
    "        'Praha 4 - Kačerov', 'Praha 5 - Jinonice', 'Praha 6 - Veleslavín', 'Praha 7 - Troja',\n",
    "        'Praha 8 - Ďáblice', 'Praha 10 - Skalka'\n",
    "    ],\n",
    "    'Cena nájmu (Kč/měsíc)': [\n",
    "        25000, 23500, 19800, 17500, 16800, 15200, 16500, 14800, 18200, 19500,\n",
    "        15900, 21000, 18500, 17800, 19200, 20500, 16200, 15500, 14200, 16800,\n",
    "        15700, 27500, 19900, 18200, 17500, 21000, 22500, 16800, 15200, 13800,\n",
    "        14500, 29000, 18500, 17900, 16800, 15500, 17200, 18800, 14200, 13900,\n",
    "        14800, 26500, 20500, 15800, 15200, 14900, 16500, 17800, 14500, 14200\n",
    "    ],\n",
    "    'Vzdálenost od pracoviště (min)': [\n",
    "        15, 18, 22, 25, 30, 35, 28, 32, 25, 20,\n",
    "        35, 28, 32, 22, 18, 15, 25, 30, 38, 25,\n",
    "        32, 12, 20, 25, 28, 18, 22, 28, 35, 45,\n",
    "        38, 20, 25, 22, 30, 35, 32, 25, 40, 42,\n",
    "        35, 15, 18, 32, 35, 38, 30, 32, 42, 40\n",
    "    ],\n",
    "    'Plocha bytu (m²)': [\n",
    "        48, 52, 55, 62, 58, 65, 61, 68, 52, 47,\n",
    "        70, 56, 65, 49, 45, 42, 59, 63, 67, 58,\n",
    "        65, 40, 54, 60, 66, 49, 51, 62, 72, 75,\n",
    "        68, 45, 56, 53, 64, 70, 68, 55, 74, 76,\n",
    "        69, 43, 50, 66, 70, 72, 64, 58, 78, 73\n",
    "    ],\n",
    "    'Stav bytu (1-10)': [\n",
    "        8, 7, 8, 6, 5, 6, 7, 5, 7, 8,\n",
    "        6, 8, 7, 7, 8, 9, 6, 6, 5, 7,\n",
    "        6, 9, 8, 7, 8, 9, 8, 5, 6, 7,\n",
    "        5, 9, 7, 8, 7, 6, 7, 8, 6, 5,\n",
    "        6, 9, 8, 5, 6, 5, 7, 7, 6, 5\n",
    "    ],\n",
    "    'Okolí a občanská vybavenost (1-10)': [\n",
    "        10, 9, 9, 7, 8, 6, 7, 6, 8, 9,\n",
    "        7, 9, 8, 8, 9, 8, 7, 6, 5, 7,\n",
    "        6, 10, 8, 8, 7, 9, 9, 7, 6, 5,\n",
    "        5, 10, 8, 8, 7, 6, 7, 8, 5, 5,\n",
    "        6, 10, 9, 6, 6, 5, 6, 7, 5, 5\n",
    "    ],\n",
    "    'Hlučnost (dB)': [\n",
    "        65, 62, 56, 54, 60, 52, 58, 55, 50, 59,\n",
    "        52, 51, 48, 57, 58, 61, 56, 57, 53, 55,\n",
    "        54, 64, 52, 59, 57, 60, 55, 58, 50, 51,\n",
    "        52, 58, 53, 56, 54, 49, 47, 53, 48, 50,\n",
    "        51, 66, 57, 55, 53, 48, 50, 49, 46, 52\n",
    "    ]\n",
    "}\n",
    "\n",
    "# Cesta k CSV souboru\n",
    "csv_dataset_file_path = \"dataset/byty.csv\"\n",
    "\n",
    "# Kontrola existence CSV souboru\n",
    "if os.path.exists(csv_dataset_file_path):\n",
    "    try:\n",
    "        df = pd.read_csv(csv_dataset_file_path)\n",
    "        print(f\"Data načtena ze souboru: {csv_dataset_file_path}\")\n",
    "    except Exception as e:\n",
    "        print(f\"Došlo k chybě při načítání souboru ({e}), použita a uložena výchozí data.\")\n",
    "        df = pd.DataFrame(seed_data)\n",
    "        df.to_csv(csv_dataset_file_path, index=False)\n",
    "else:\n",
    "    print(\"Soubor byty.csv neexistuje, použita a uložena výchozí data.\")\n",
    "    df = pd.DataFrame(seed_data)\n",
    "    df.to_csv(csv_dataset_file_path, index=False)\n",
    "\n",
    "# Nastavení sloupce \"Číslo inzerátu\" jako index (pokud existuje)\n",
    "if 'Číslo inzerátu' in df.columns:\n",
    "    df.set_index('Číslo inzerátu', inplace=True)\n",
    "else:\n",
    "    print(\"Sloupec 'Číslo inzerátu' nebyl nalezen v datech.\")\n",
    "\n",
    "\n",
    "# Prohlédnutí dat\n",
    "print(\"Přehled dat:\")\n",
    "display(df.head())\n",
    "\n",
    "print(\"\\nZákladní statistiky:\")\n",
    "display(df.describe())"
   ]
  },
  {
   "cell_type": "code",
   "execution_count": 4,
   "id": "6089d1ce",
   "metadata": {},
   "outputs": [
    {
     "data": {
      "image/png": "[encoded data removed]",
      "text/plain": [
       "<Figure size 1000x800 with 2 Axes>"
      ]
     },
     "metadata": {},
     "output_type": "display_data"
    },
    {
     "data": {
      "image/png": "[encoded data removed]",
      "text/plain": [
       "<Figure size 1800x1500 with 6 Axes>"
      ]
     },
     "metadata": {},
     "output_type": "display_data"
    }
   ],
   "source": [
    "# 2. Vizualizace dat\n",
    "# Korelační matice (bez sloupce Číslo inzerátu, který je nyní indexem)\n",
    "plt.figure(figsize=(10, 8))\n",
    "corr = df.select_dtypes(include=[np.number]).corr()\n",
    "sns.heatmap(corr, annot=True, cmap='coolwarm', fmt='.2f')\n",
    "plt.title('Korelační matice kritérií')\n",
    "plt.tight_layout()\n",
    "plt.show()\n",
    "\n",
    "# Rozložení hodnot kritérií\n",
    "fig, axes = plt.subplots(3, 2, figsize=(18, 15))\n",
    "axes = axes.flatten()\n",
    "\n",
    "numeric_cols = df.select_dtypes(include=[np.number]).columns.tolist()\n",
    "\n",
    "for i, col in enumerate(numeric_cols):\n",
    "    sns.histplot(df[col], kde=True, ax=axes[i])\n",
    "    axes[i].set_title(f'Rozložení hodnot - {col}')\n",
    "    axes[i].grid(True)\n",
    "    \n",
    "    # Přidáme poznámku o rozložení dat\n",
    "    if i < len(axes)-1:  # Aby nezobrazoval u nevyužitých os\n",
    "        mean_val = df[col].mean()\n",
    "        std_val = df[col].std()\n",
    "        skew_val = df[col].skew()\n",
    "        axes[i].text(0.02, 0.92, f\"Průměr: {mean_val:.2f}\\nStd: {std_val:.2f}\\nŠikmost: {skew_val:.2f}\", \n",
    "                   transform=axes[i].transAxes, bbox=dict(facecolor='white', alpha=0.8))\n",
    "\n",
    "plt.tight_layout()\n",
    "plt.show()"
   ]
  },
  {
   "cell_type": "code",
   "execution_count": 5,
   "id": "4c32628f",
   "metadata": {},
   "outputs": [
    {
     "name": "stdout",
     "output_type": "stream",
     "text": [
      "\n",
      "Nejlepších 10 variant podle metody WSA:\n"
     ]
    },
    {
     "data": {
      "text/html": [
       "<div>\n",
       "<style scoped>\n",
       "    .dataframe tbody tr th:only-of-type {\n",
       "        vertical-align: middle;\n",
       "    }\n",
       "\n",
       "    .dataframe tbody tr th {\n",
       "        vertical-align: top;\n",
       "    }\n",
       "\n",
       "    .dataframe thead th {\n",
       "        text-align: right;\n",
       "    }\n",
       "</style>\n",
       "<table border=\"1\" class=\"dataframe\">\n",
       "  <thead>\n",
       "    <tr style=\"text-align: right;\">\n",
       "      <th></th>\n",
       "      <th>Lokalita</th>\n",
       "      <th>Užitek</th>\n",
       "    </tr>\n",
       "    <tr>\n",
       "      <th>Číslo inzerátu</th>\n",
       "      <th></th>\n",
       "      <th></th>\n",
       "    </tr>\n",
       "  </thead>\n",
       "  <tbody>\n",
       "    <tr>\n",
       "      <th>13278</th>\n",
       "      <td>Praha 2 - Vinohrady</td>\n",
       "      <td>0.632420</td>\n",
       "    </tr>\n",
       "    <tr>\n",
       "      <th>64987</th>\n",
       "      <td>Praha 5 - Anděl</td>\n",
       "      <td>0.630742</td>\n",
       "    </tr>\n",
       "    <tr>\n",
       "      <th>36062</th>\n",
       "      <td>Praha 2 - Vyšehrad</td>\n",
       "      <td>0.628949</td>\n",
       "    </tr>\n",
       "    <tr>\n",
       "      <th>54597</th>\n",
       "      <td>Praha 3 - Flora</td>\n",
       "      <td>0.625776</td>\n",
       "    </tr>\n",
       "    <tr>\n",
       "      <th>57052</th>\n",
       "      <td>Praha 2 - Náměstí Míru</td>\n",
       "      <td>0.620413</td>\n",
       "    </tr>\n",
       "    <tr>\n",
       "      <th>13905</th>\n",
       "      <td>Praha 7 - Letná</td>\n",
       "      <td>0.617057</td>\n",
       "    </tr>\n",
       "    <tr>\n",
       "      <th>54118</th>\n",
       "      <td>Praha 7 - Bubeneč</td>\n",
       "      <td>0.615686</td>\n",
       "    </tr>\n",
       "    <tr>\n",
       "      <th>38221</th>\n",
       "      <td>Praha 6 - Petřiny</td>\n",
       "      <td>0.613393</td>\n",
       "    </tr>\n",
       "    <tr>\n",
       "      <th>81426</th>\n",
       "      <td>Praha 4 - Pankrác</td>\n",
       "      <td>0.612307</td>\n",
       "    </tr>\n",
       "    <tr>\n",
       "      <th>87397</th>\n",
       "      <td>Praha 6 - Dejvice</td>\n",
       "      <td>0.605267</td>\n",
       "    </tr>\n",
       "  </tbody>\n",
       "</table>\n",
       "</div>"
      ],
      "text/plain": [
       "                              Lokalita    Užitek\n",
       "Číslo inzerátu                                  \n",
       "13278              Praha 2 - Vinohrady  0.632420\n",
       "64987                  Praha 5 - Anděl  0.630742\n",
       "36062               Praha 2 - Vyšehrad  0.628949\n",
       "54597                  Praha 3 - Flora  0.625776\n",
       "57052           Praha 2 - Náměstí Míru  0.620413\n",
       "13905                  Praha 7 - Letná  0.617057\n",
       "54118                Praha 7 - Bubeneč  0.615686\n",
       "38221                Praha 6 - Petřiny  0.613393\n",
       "81426                Praha 4 - Pankrác  0.612307\n",
       "87397                Praha 6 - Dejvice  0.605267"
      ]
     },
     "metadata": {},
     "output_type": "display_data"
    }
   ],
   "source": [
    "# 3. Vícekriteriální analýza - Metoda váženého součtu (WSA)\n",
    "\n",
    "# Definice vah kritérií (můžete upravit podle svých preferencí)\n",
    "weights = {\n",
    "    'Cena nájmu (Kč/měsíc)': 0.25,        # Minimalizační\n",
    "    'Vzdálenost od pracoviště (min)': 0.2, # Minimalizační\n",
    "    'Plocha bytu (m²)': 0.15,              # Maximalizační\n",
    "    'Stav bytu (1-10)': 0.15,              # Maximalizační\n",
    "    'Okolí a občanská vybavenost (1-10)': 0.15, # Maximalizační\n",
    "    'Hlučnost (dB)': 0.1                   # Minimalizační\n",
    "}\n",
    "\n",
    "# Ověření, že součet vah je 1\n",
    "assert abs(sum(weights.values()) - 1.0) < 1e-10, \"Součet vah musí být přesně 1\"\n",
    "\n",
    "# Vytvoření kopie DataFrame pro normalizaci\n",
    "df_norm = df.copy()\n",
    "\n",
    "# Identifikace minimalizačních a maximalizačních kritérií\n",
    "min_criteria = ['Cena nájmu (Kč/měsíc)', 'Vzdálenost od pracoviště (min)', 'Hlučnost (dB)']\n",
    "max_criteria = ['Plocha bytu (m²)', 'Stav bytu (1-10)', 'Okolí a občanská vybavenost (1-10)']\n",
    "\n",
    "# Normalizace hodnot - metoda WSA\n",
    "for col in min_criteria + max_criteria:\n",
    "    min_val = df[col].min()\n",
    "    max_val = df[col].max()\n",
    "    \n",
    "    if col in min_criteria:\n",
    "        # Pro minimalizační kritéria: (max - x) / (max - min)\n",
    "        df_norm[col] = (max_val - df[col]) / (max_val - min_val)\n",
    "    else:\n",
    "        # Pro maximalizační kritéria: (x - min) / (max - min)\n",
    "        df_norm[col] = (df[col] - min_val) / (max_val - min_val)\n",
    "\n",
    "# Výpočet užitku pro každou variantu\n",
    "df_norm['Užitek'] = sum(df_norm[col] * weights[col] for col in weights.keys())\n",
    "\n",
    "# Seřazení variant podle užitku (sestupně)\n",
    "df_sorted = df_norm.sort_values('Užitek', ascending=False).reset_index()\n",
    "\n",
    "# Výsledky\n",
    "df_sorted_displayed = df_sorted.set_index('Číslo inzerátu')\n",
    "print(\"\\nNejlepších 10 variant podle metody WSA:\")\n",
    "display(df_sorted_displayed[['Lokalita', 'Užitek']].head(10))"
   ]
  },
  {
   "cell_type": "code",
   "execution_count": 6,
   "id": "585b2623",
   "metadata": {},
   "outputs": [
    {
     "data": {
      "image/png": "[encoded data removed]",
      "text/plain": [
       "<Figure size 1400x800 with 1 Axes>"
      ]
     },
     "metadata": {},
     "output_type": "display_data"
    }
   ],
   "source": [
    "# 4. Vizualizace výsledků\n",
    "plt.figure(figsize=(14, 8))\n",
    "# Vytvoříme sloučený label s lokalitou a číslem inzerátu\n",
    "df_sorted['Inzerát a lokalita'] = df_sorted['Lokalita'] + ' (č.' + df_sorted['Číslo inzerátu'].astype(str) + ')'\n",
    "sns.barplot(x='Užitek', y='Inzerát a lokalita', hue='Lokalita', data=df_sorted.head(10), palette='viridis', legend=False)\n",
    "plt.title('10 nejlepších variant podle metody WSA')\n",
    "plt.xlabel('Užitek')\n",
    "plt.ylabel('Lokalita (číslo inzerátu)')\n",
    "plt.tight_layout()\n",
    "plt.show()"
   ]
  },
  {
   "cell_type": "code",
   "execution_count": 7,
   "id": "ecf96a42",
   "metadata": {},
   "outputs": [
    {
     "name": "stdout",
     "output_type": "stream",
     "text": [
      "\n",
      "Nejlepších 5 variant pro scénář: Důraz na cenu\n"
     ]
    },
    {
     "data": {
      "text/html": [
       "<div>\n",
       "<style scoped>\n",
       "    .dataframe tbody tr th:only-of-type {\n",
       "        vertical-align: middle;\n",
       "    }\n",
       "\n",
       "    .dataframe tbody tr th {\n",
       "        vertical-align: top;\n",
       "    }\n",
       "\n",
       "    .dataframe thead th {\n",
       "        text-align: right;\n",
       "    }\n",
       "</style>\n",
       "<table border=\"1\" class=\"dataframe\">\n",
       "  <thead>\n",
       "    <tr style=\"text-align: right;\">\n",
       "      <th></th>\n",
       "      <th>Lokalita</th>\n",
       "      <th>Užitek_Důraz na cenu</th>\n",
       "    </tr>\n",
       "    <tr>\n",
       "      <th>Číslo inzerátu</th>\n",
       "      <th></th>\n",
       "      <th></th>\n",
       "    </tr>\n",
       "  </thead>\n",
       "  <tbody>\n",
       "    <tr>\n",
       "      <th>46463</th>\n",
       "      <td>Praha 9 - Černý Most</td>\n",
       "      <td>0.679605</td>\n",
       "    </tr>\n",
       "    <tr>\n",
       "      <th>59797</th>\n",
       "      <td>Praha 10 - Záběhlice</td>\n",
       "      <td>0.671376</td>\n",
       "    </tr>\n",
       "    <tr>\n",
       "      <th>23396</th>\n",
       "      <td>Praha 8 - Bohnice</td>\n",
       "      <td>0.669043</td>\n",
       "    </tr>\n",
       "    <tr>\n",
       "      <th>87236</th>\n",
       "      <td>Praha 8 - Kobylisy</td>\n",
       "      <td>0.668612</td>\n",
       "    </tr>\n",
       "    <tr>\n",
       "      <th>80284</th>\n",
       "      <td>Praha 8 - Ďáblice</td>\n",
       "      <td>0.665610</td>\n",
       "    </tr>\n",
       "  </tbody>\n",
       "</table>\n",
       "</div>"
      ],
      "text/plain": [
       "                            Lokalita  Užitek_Důraz na cenu\n",
       "Číslo inzerátu                                            \n",
       "46463           Praha 9 - Černý Most              0.679605\n",
       "59797           Praha 10 - Záběhlice              0.671376\n",
       "23396              Praha 8 - Bohnice              0.669043\n",
       "87236             Praha 8 - Kobylisy              0.668612\n",
       "80284              Praha 8 - Ďáblice              0.665610"
      ]
     },
     "metadata": {},
     "output_type": "display_data"
    },
    {
     "name": "stdout",
     "output_type": "stream",
     "text": [
      "\n",
      "Nejlepších 5 variant pro scénář: Důraz na lokalitu\n"
     ]
    },
    {
     "data": {
      "text/html": [
       "<div>\n",
       "<style scoped>\n",
       "    .dataframe tbody tr th:only-of-type {\n",
       "        vertical-align: middle;\n",
       "    }\n",
       "\n",
       "    .dataframe tbody tr th {\n",
       "        vertical-align: top;\n",
       "    }\n",
       "\n",
       "    .dataframe thead th {\n",
       "        text-align: right;\n",
       "    }\n",
       "</style>\n",
       "<table border=\"1\" class=\"dataframe\">\n",
       "  <thead>\n",
       "    <tr style=\"text-align: right;\">\n",
       "      <th></th>\n",
       "      <th>Lokalita</th>\n",
       "      <th>Užitek_Důraz na lokalitu</th>\n",
       "    </tr>\n",
       "    <tr>\n",
       "      <th>Číslo inzerátu</th>\n",
       "      <th></th>\n",
       "      <th></th>\n",
       "    </tr>\n",
       "  </thead>\n",
       "  <tbody>\n",
       "    <tr>\n",
       "      <th>83563</th>\n",
       "      <td>Praha 1 - Josefov</td>\n",
       "      <td>0.719803</td>\n",
       "    </tr>\n",
       "    <tr>\n",
       "      <th>93810</th>\n",
       "      <td>Praha 1 - Staré Město</td>\n",
       "      <td>0.710754</td>\n",
       "    </tr>\n",
       "    <tr>\n",
       "      <th>22676</th>\n",
       "      <td>Praha 1 - Můstek</td>\n",
       "      <td>0.705293</td>\n",
       "    </tr>\n",
       "    <tr>\n",
       "      <th>64987</th>\n",
       "      <td>Praha 5 - Anděl</td>\n",
       "      <td>0.703086</td>\n",
       "    </tr>\n",
       "    <tr>\n",
       "      <th>57052</th>\n",
       "      <td>Praha 2 - Náměstí Míru</td>\n",
       "      <td>0.693152</td>\n",
       "    </tr>\n",
       "  </tbody>\n",
       "</table>\n",
       "</div>"
      ],
      "text/plain": [
       "                              Lokalita  Užitek_Důraz na lokalitu\n",
       "Číslo inzerátu                                                  \n",
       "83563                Praha 1 - Josefov                  0.719803\n",
       "93810            Praha 1 - Staré Město                  0.710754\n",
       "22676                 Praha 1 - Můstek                  0.705293\n",
       "64987                  Praha 5 - Anděl                  0.703086\n",
       "57052           Praha 2 - Náměstí Míru                  0.693152"
      ]
     },
     "metadata": {},
     "output_type": "display_data"
    },
    {
     "name": "stdout",
     "output_type": "stream",
     "text": [
      "\n",
      "Nejlepších 5 variant pro scénář: Důraz na komfort\n"
     ]
    },
    {
     "data": {
      "text/html": [
       "<div>\n",
       "<style scoped>\n",
       "    .dataframe tbody tr th:only-of-type {\n",
       "        vertical-align: middle;\n",
       "    }\n",
       "\n",
       "    .dataframe tbody tr th {\n",
       "        vertical-align: top;\n",
       "    }\n",
       "\n",
       "    .dataframe thead th {\n",
       "        text-align: right;\n",
       "    }\n",
       "</style>\n",
       "<table border=\"1\" class=\"dataframe\">\n",
       "  <thead>\n",
       "    <tr style=\"text-align: right;\">\n",
       "      <th></th>\n",
       "      <th>Lokalita</th>\n",
       "      <th>Užitek_Důraz na komfort</th>\n",
       "    </tr>\n",
       "    <tr>\n",
       "      <th>Číslo inzerátu</th>\n",
       "      <th></th>\n",
       "      <th></th>\n",
       "    </tr>\n",
       "  </thead>\n",
       "  <tbody>\n",
       "    <tr>\n",
       "      <th>81426</th>\n",
       "      <td>Praha 4 - Pankrác</td>\n",
       "      <td>0.628555</td>\n",
       "    </tr>\n",
       "    <tr>\n",
       "      <th>38221</th>\n",
       "      <td>Praha 6 - Petřiny</td>\n",
       "      <td>0.620052</td>\n",
       "    </tr>\n",
       "    <tr>\n",
       "      <th>64987</th>\n",
       "      <td>Praha 5 - Anděl</td>\n",
       "      <td>0.619976</td>\n",
       "    </tr>\n",
       "    <tr>\n",
       "      <th>87397</th>\n",
       "      <td>Praha 6 - Dejvice</td>\n",
       "      <td>0.618226</td>\n",
       "    </tr>\n",
       "    <tr>\n",
       "      <th>13278</th>\n",
       "      <td>Praha 2 - Vinohrady</td>\n",
       "      <td>0.616671</td>\n",
       "    </tr>\n",
       "  </tbody>\n",
       "</table>\n",
       "</div>"
      ],
      "text/plain": [
       "                           Lokalita  Užitek_Důraz na komfort\n",
       "Číslo inzerátu                                              \n",
       "81426             Praha 4 - Pankrác                 0.628555\n",
       "38221             Praha 6 - Petřiny                 0.620052\n",
       "64987               Praha 5 - Anděl                 0.619976\n",
       "87397             Praha 6 - Dejvice                 0.618226\n",
       "13278           Praha 2 - Vinohrady                 0.616671"
      ]
     },
     "metadata": {},
     "output_type": "display_data"
    },
    {
     "name": "stdout",
     "output_type": "stream",
     "text": [
      "\n",
      "Nejlepších 5 variant pro scénář: Vyvážený přístup\n"
     ]
    },
    {
     "data": {
      "text/html": [
       "<div>\n",
       "<style scoped>\n",
       "    .dataframe tbody tr th:only-of-type {\n",
       "        vertical-align: middle;\n",
       "    }\n",
       "\n",
       "    .dataframe tbody tr th {\n",
       "        vertical-align: top;\n",
       "    }\n",
       "\n",
       "    .dataframe thead th {\n",
       "        text-align: right;\n",
       "    }\n",
       "</style>\n",
       "<table border=\"1\" class=\"dataframe\">\n",
       "  <thead>\n",
       "    <tr style=\"text-align: right;\">\n",
       "      <th></th>\n",
       "      <th>Lokalita</th>\n",
       "      <th>Užitek_Vyvážený přístup</th>\n",
       "    </tr>\n",
       "    <tr>\n",
       "      <th>Číslo inzerátu</th>\n",
       "      <th></th>\n",
       "      <th></th>\n",
       "    </tr>\n",
       "  </thead>\n",
       "  <tbody>\n",
       "    <tr>\n",
       "      <th>36062</th>\n",
       "      <td>Praha 2 - Vyšehrad</td>\n",
       "      <td>0.634015</td>\n",
       "    </tr>\n",
       "    <tr>\n",
       "      <th>13278</th>\n",
       "      <td>Praha 2 - Vinohrady</td>\n",
       "      <td>0.627157</td>\n",
       "    </tr>\n",
       "    <tr>\n",
       "      <th>38221</th>\n",
       "      <td>Praha 6 - Petřiny</td>\n",
       "      <td>0.622077</td>\n",
       "    </tr>\n",
       "    <tr>\n",
       "      <th>64987</th>\n",
       "      <td>Praha 5 - Anděl</td>\n",
       "      <td>0.619426</td>\n",
       "    </tr>\n",
       "    <tr>\n",
       "      <th>87397</th>\n",
       "      <td>Praha 6 - Dejvice</td>\n",
       "      <td>0.616451</td>\n",
       "    </tr>\n",
       "  </tbody>\n",
       "</table>\n",
       "</div>"
      ],
      "text/plain": [
       "                           Lokalita  Užitek_Vyvážený přístup\n",
       "Číslo inzerátu                                              \n",
       "36062            Praha 2 - Vyšehrad                 0.634015\n",
       "13278           Praha 2 - Vinohrady                 0.627157\n",
       "38221             Praha 6 - Petřiny                 0.622077\n",
       "64987               Praha 5 - Anděl                 0.619426\n",
       "87397             Praha 6 - Dejvice                 0.616451"
      ]
     },
     "metadata": {},
     "output_type": "display_data"
    }
   ],
   "source": [
    "# 5. Analýza citlivosti - jak se mění pořadí variant při změně vah\n",
    "# Simulace různých priorit uživatele\n",
    "\n",
    "# Definice několika sad vah reprezentujících různé preference\n",
    "weight_scenarios = {\n",
    "    'Důraz na cenu': {\n",
    "        'Cena nájmu (Kč/měsíc)': 0.50,\n",
    "        'Vzdálenost od pracoviště (min)': 0.15,\n",
    "        'Plocha bytu (m²)': 0.10,\n",
    "        'Stav bytu (1-10)': 0.10,\n",
    "        'Okolí a občanská vybavenost (1-10)': 0.10,\n",
    "        'Hlučnost (dB)': 0.05\n",
    "    },\n",
    "    'Důraz na lokalitu': {\n",
    "        'Cena nájmu (Kč/měsíc)': 0.15,\n",
    "        'Vzdálenost od pracoviště (min)': 0.30,\n",
    "        'Plocha bytu (m²)': 0.10,\n",
    "        'Stav bytu (1-10)': 0.10,\n",
    "        'Okolí a občanská vybavenost (1-10)': 0.30,\n",
    "        'Hlučnost (dB)': 0.05\n",
    "    },\n",
    "    'Důraz na komfort': {\n",
    "        'Cena nájmu (Kč/měsíc)': 0.15,\n",
    "        'Vzdálenost od pracoviště (min)': 0.10,\n",
    "        'Plocha bytu (m²)': 0.25,\n",
    "        'Stav bytu (1-10)': 0.25,\n",
    "        'Okolí a občanská vybavenost (1-10)': 0.15,\n",
    "        'Hlučnost (dB)': 0.10\n",
    "    },\n",
    "    'Vyvážený přístup': {\n",
    "        'Cena nájmu (Kč/měsíc)': 0.20,\n",
    "        'Vzdálenost od pracoviště (min)': 0.20,\n",
    "        'Plocha bytu (m²)': 0.15,\n",
    "        'Stav bytu (1-10)': 0.15,\n",
    "        'Okolí a občanská vybavenost (1-10)': 0.15,\n",
    "        'Hlučnost (dB)': 0.15\n",
    "    }\n",
    "}\n",
    "\n",
    "# Výpočet užitků pro každý scénář\n",
    "results = {}\n",
    "\n",
    "for scenario_name, scenario_weights in weight_scenarios.items():\n",
    "    # Ověření, že součet vah je 1\n",
    "    assert abs(sum(scenario_weights.values()) - 1.0) < 1e-10, f\"Součet vah pro scénář {scenario_name} musí být přesně 1\"\n",
    "    \n",
    "    # Výpočet užitku pro každou variantu\n",
    "    df_temp = df_norm.copy()\n",
    "    df_temp[f'Užitek_{scenario_name}'] = sum(df_norm[col] * scenario_weights[col] for col in scenario_weights.keys())\n",
    "    \n",
    "    # Seřazení variant podle užitku (sestupně)\n",
    "    df_temp = df_temp.sort_values(f'Užitek_{scenario_name}', ascending=False)\n",
    "    \n",
    "    # Uložení nejlepších 5 variant pro každý scénář\n",
    "    results[scenario_name] = df_temp[['Lokalita', f'Užitek_{scenario_name}']].head(5)\n",
    "\n",
    "# Zobrazení výsledků pro různé scénáře\n",
    "for scenario_name, result_df in results.items():\n",
    "    print(f\"\\nNejlepších 5 variant pro scénář: {scenario_name}\")\n",
    "    display(result_df)"
   ]
  },
  {
   "cell_type": "code",
   "execution_count": 8,
   "id": "05228f91",
   "metadata": {},
   "outputs": [
    {
     "data": {
      "application/vnd.plotly.v1+json": {
       "config": {
        "plotlyServerURL": "https://plot.ly"
       },
       "data": [
        {
         "dimensions": [
          {
           "label": "Cena nájmu (Kč/měsíc)",
           "values": {
            "bdata": "5TWU11Be4z95DeU1lNfgP4fyGsprKOM/5TWU11Be5z9RXkN5DeXhPxvKayivoeQ/lNdQXkN55T95DeU1lNfoP15DeQ3lNeg/eQ3lNZTX4D8=",
            "dtype": "f8"
           }
          },
          {
           "label": "Vzdálenost od pracoviště (min)",
           "values": {
            "bdata": "TjbZZJNN5j8vuuiiiy7qPz744IMPPug/TjbZZJNN5j8vuuiiiy7qPy+66KKLLuo/ZZNNNtlk4z822WSTTTbZP3zwwQcffOA/fPDBBx984D8=",
            "dtype": "f8"
           }
          },
          {
           "label": "Plocha bytu (m²)",
           "values": {
            "bdata": "NpTXUF5D2T8N5TWU11DOP0N5DeU1lNc/UV5DeQ3l1T95DeU1lNfQP3kN5TWU18A/NpTXUF5D2T9DeQ3lNZTnP1FeQ3kN5eU/KK+hvIby2j8=",
            "dtype": "f8"
           }
          },
          {
           "label": "Stav bytu (1-10)",
           "values": {
            "bdata": "AAAAAAAA6D8AAAAAAADwPwAAAAAAAOg/AAAAAAAA6D8AAAAAAADoPwAAAAAAAOg/AAAAAAAA6D8AAAAAAADgPwAAAAAAAOg/AAAAAAAA6D8=",
            "dtype": "f8"
           }
          },
          {
           "label": "Okolí a občanská vybavenost (1-10)",
           "values": {
            "bdata": "mpmZmZmZ6T+amZmZmZnpPzMzMzMzM+M/MzMzMzMz4z+amZmZmZnpP5qZmZmZmek/MzMzMzMz4z+amZmZmZnZP5qZmZmZmdk/mpmZmZmZ6T8=",
            "dtype": "f8"
           }
          },
          {
           "label": "Hlučnost (dB)",
           "values": {
            "bdata": "AAAAAAAA4D8zMzMzMzPTP2ZmZmZmZuY/AAAAAAAA4D/NzMzMzMzcP5qZmZmZmdk/zczMzMzM5D9mZmZmZmbuP83MzMzMzNw/AAAAAAAA6D8=",
            "dtype": "f8"
           }
          }
         ],
         "domain": {
          "x": [
           0,
           1
          ],
          "y": [
           0,
           1
          ]
         },
         "line": {
          "color": {
           "bdata": "SucqZ8k85D9l1GkQCS/kP37cmWlaIOQ/Sjo9YVoG5D/pCwWxa9rjP5cA1DHvvuM/ptrct7Kz4z/X7Yen6qDjP6WR3gwEmOM/2Go2NFle4z8=",
           "dtype": "f8"
          },
          "coloraxis": "coloraxis"
         },
         "name": "",
         "type": "parcoords"
        }
       ],
       "layout": {
        "coloraxis": {
         "colorbar": {
          "title": {
           "text": "Užitek"
          }
         },
         "colorscale": [
          [
           0,
           "#440154"
          ],
          [
           0.1111111111111111,
           "#482878"
          ],
          [
           0.2222222222222222,
           "#3e4989"
          ],
          [
           0.3333333333333333,
           "#31688e"
          ],
          [
           0.4444444444444444,
           "#26828e"
          ],
          [
           0.5555555555555556,
           "#1f9e89"
          ],
          [
           0.6666666666666666,
           "#35b779"
          ],
          [
           0.7777777777777778,
           "#6ece58"
          ],
          [
           0.8888888888888888,
           "#b5de2b"
          ],
          [
           1,
           "#fde725"
          ]
         ]
        },
        "legend": {
         "tracegroupgap": 0
        },
        "template": {
         "data": {
          "bar": [
           {
            "error_x": {
             "color": "#2a3f5f"
            },
            "error_y": {
             "color": "#2a3f5f"
            },
            "marker": {
             "line": {
              "color": "#E5ECF6",
              "width": 0.5
             },
             "pattern": {
              "fillmode": "overlay",
              "size": 10,
              "solidity": 0.2
             }
            },
            "type": "bar"
           }
          ],
          "barpolar": [
           {
            "marker": {
             "line": {
              "color": "#E5ECF6",
              "width": 0.5
             },
             "pattern": {
              "fillmode": "overlay",
              "size": 10,
              "solidity": 0.2
             }
            },
            "type": "barpolar"
           }
          ],
          "carpet": [
           {
            "aaxis": {
             "endlinecolor": "#2a3f5f",
             "gridcolor": "white",
             "linecolor": "white",
             "minorgridcolor": "white",
             "startlinecolor": "#2a3f5f"
            },
            "baxis": {
             "endlinecolor": "#2a3f5f",
             "gridcolor": "white",
             "linecolor": "white",
             "minorgridcolor": "white",
             "startlinecolor": "#2a3f5f"
            },
            "type": "carpet"
           }
          ],
          "choropleth": [
           {
            "colorbar": {
             "outlinewidth": 0,
             "ticks": ""
            },
            "type": "choropleth"
           }
          ],
          "contour": [
           {
            "colorbar": {
             "outlinewidth": 0,
             "ticks": ""
            },
            "colorscale": [
             [
              0,
              "#0d0887"
             ],
             [
              0.1111111111111111,
              "#46039f"
             ],
             [
              0.2222222222222222,
              "#7201a8"
             ],
             [
              0.3333333333333333,
              "#9c179e"
             ],
             [
              0.4444444444444444,
              "#bd3786"
             ],
             [
              0.5555555555555556,
              "#d8576b"
             ],
             [
              0.6666666666666666,
              "#ed7953"
             ],
             [
              0.7777777777777778,
              "#fb9f3a"
             ],
             [
              0.8888888888888888,
              "#fdca26"
             ],
             [
              1,
              "#f0f921"
             ]
            ],
            "type": "contour"
           }
          ],
          "contourcarpet": [
           {
            "colorbar": {
             "outlinewidth": 0,
             "ticks": ""
            },
            "type": "contourcarpet"
           }
          ],
          "heatmap": [
           {
            "colorbar": {
             "outlinewidth": 0,
             "ticks": ""
            },
            "colorscale": [
             [
              0,
              "#0d0887"
             ],
             [
              0.1111111111111111,
              "#46039f"
             ],
             [
              0.2222222222222222,
              "#7201a8"
             ],
             [
              0.3333333333333333,
              "#9c179e"
             ],
             [
              0.4444444444444444,
              "#bd3786"
             ],
             [
              0.5555555555555556,
              "#d8576b"
             ],
             [
              0.6666666666666666,
              "#ed7953"
             ],
             [
              0.7777777777777778,
              "#fb9f3a"
             ],
             [
              0.8888888888888888,
              "#fdca26"
             ],
             [
              1,
              "#f0f921"
             ]
            ],
            "type": "heatmap"
           }
          ],
          "histogram": [
           {
            "marker": {
             "pattern": {
              "fillmode": "overlay",
              "size": 10,
              "solidity": 0.2
             }
            },
            "type": "histogram"
           }
          ],
          "histogram2d": [
           {
            "colorbar": {
             "outlinewidth": 0,
             "ticks": ""
            },
            "colorscale": [
             [
              0,
              "#0d0887"
             ],
             [
              0.1111111111111111,
              "#46039f"
             ],
             [
              0.2222222222222222,
              "#7201a8"
             ],
             [
              0.3333333333333333,
              "#9c179e"
             ],
             [
              0.4444444444444444,
              "#bd3786"
             ],
             [
              0.5555555555555556,
              "#d8576b"
             ],
             [
              0.6666666666666666,
              "#ed7953"
             ],
             [
              0.7777777777777778,
              "#fb9f3a"
             ],
             [
              0.8888888888888888,
              "#fdca26"
             ],
             [
              1,
              "#f0f921"
             ]
            ],
            "type": "histogram2d"
           }
          ],
          "histogram2dcontour": [
           {
            "colorbar": {
             "outlinewidth": 0,
             "ticks": ""
            },
            "colorscale": [
             [
              0,
              "#0d0887"
             ],
             [
              0.1111111111111111,
              "#46039f"
             ],
             [
              0.2222222222222222,
              "#7201a8"
             ],
             [
              0.3333333333333333,
              "#9c179e"
             ],
             [
              0.4444444444444444,
              "#bd3786"
             ],
             [
              0.5555555555555556,
              "#d8576b"
             ],
             [
              0.6666666666666666,
              "#ed7953"
             ],
             [
              0.7777777777777778,
              "#fb9f3a"
             ],
             [
              0.8888888888888888,
              "#fdca26"
             ],
             [
              1,
              "#f0f921"
             ]
            ],
            "type": "histogram2dcontour"
           }
          ],
          "mesh3d": [
           {
            "colorbar": {
             "outlinewidth": 0,
             "ticks": ""
            },
            "type": "mesh3d"
           }
          ],
          "parcoords": [
           {
            "line": {
             "colorbar": {
              "outlinewidth": 0,
              "ticks": ""
             }
            },
            "type": "parcoords"
           }
          ],
          "pie": [
           {
            "automargin": true,
            "type": "pie"
           }
          ],
          "scatter": [
           {
            "fillpattern": {
             "fillmode": "overlay",
             "size": 10,
             "solidity": 0.2
            },
            "type": "scatter"
           }
          ],
          "scatter3d": [
           {
            "line": {
             "colorbar": {
              "outlinewidth": 0,
              "ticks": ""
             }
            },
            "marker": {
             "colorbar": {
              "outlinewidth": 0,
              "ticks": ""
             }
            },
            "type": "scatter3d"
           }
          ],
          "scattercarpet": [
           {
            "marker": {
             "colorbar": {
              "outlinewidth": 0,
              "ticks": ""
             }
            },
            "type": "scattercarpet"
           }
          ],
          "scattergeo": [
           {
            "marker": {
             "colorbar": {
              "outlinewidth": 0,
              "ticks": ""
             }
            },
            "type": "scattergeo"
           }
          ],
          "scattergl": [
           {
            "marker": {
             "colorbar": {
              "outlinewidth": 0,
              "ticks": ""
             }
            },
            "type": "scattergl"
           }
          ],
          "scattermap": [
           {
            "marker": {
             "colorbar": {
              "outlinewidth": 0,
              "ticks": ""
             }
            },
            "type": "scattermap"
           }
          ],
          "scattermapbox": [
           {
            "marker": {
             "colorbar": {
              "outlinewidth": 0,
              "ticks": ""
             }
            },
            "type": "scattermapbox"
           }
          ],
          "scatterpolar": [
           {
            "marker": {
             "colorbar": {
              "outlinewidth": 0,
              "ticks": ""
             }
            },
            "type": "scatterpolar"
           }
          ],
          "scatterpolargl": [
           {
            "marker": {
             "colorbar": {
              "outlinewidth": 0,
              "ticks": ""
             }
            },
            "type": "scatterpolargl"
           }
          ],
          "scatterternary": [
           {
            "marker": {
             "colorbar": {
              "outlinewidth": 0,
              "ticks": ""
             }
            },
            "type": "scatterternary"
           }
          ],
          "surface": [
           {
            "colorbar": {
             "outlinewidth": 0,
             "ticks": ""
            },
            "colorscale": [
             [
              0,
              "#0d0887"
             ],
             [
              0.1111111111111111,
              "#46039f"
             ],
             [
              0.2222222222222222,
              "#7201a8"
             ],
             [
              0.3333333333333333,
              "#9c179e"
             ],
             [
              0.4444444444444444,
              "#bd3786"
             ],
             [
              0.5555555555555556,
              "#d8576b"
             ],
             [
              0.6666666666666666,
              "#ed7953"
             ],
             [
              0.7777777777777778,
              "#fb9f3a"
             ],
             [
              0.8888888888888888,
              "#fdca26"
             ],
             [
              1,
              "#f0f921"
             ]
            ],
            "type": "surface"
           }
          ],
          "table": [
           {
            "cells": {
             "fill": {
              "color": "#EBF0F8"
             },
             "line": {
              "color": "white"
             }
            },
            "header": {
             "fill": {
              "color": "#C8D4E3"
             },
             "line": {
              "color": "white"
             }
            },
            "type": "table"
           }
          ]
         },
         "layout": {
          "annotationdefaults": {
           "arrowcolor": "#2a3f5f",
           "arrowhead": 0,
           "arrowwidth": 1
          },
          "autotypenumbers": "strict",
          "coloraxis": {
           "colorbar": {
            "outlinewidth": 0,
            "ticks": ""
           }
          },
          "colorscale": {
           "diverging": [
            [
             0,
             "#8e0152"
            ],
            [
             0.1,
             "#c51b7d"
            ],
            [
             0.2,
             "#de77ae"
            ],
            [
             0.3,
             "#f1b6da"
            ],
            [
             0.4,
             "#fde0ef"
            ],
            [
             0.5,
             "#f7f7f7"
            ],
            [
             0.6,
             "#e6f5d0"
            ],
            [
             0.7,
             "#b8e186"
            ],
            [
             0.8,
             "#7fbc41"
            ],
            [
             0.9,
             "#4d9221"
            ],
            [
             1,
             "#276419"
            ]
           ],
           "sequential": [
            [
             0,
             "#0d0887"
            ],
            [
             0.1111111111111111,
             "#46039f"
            ],
            [
             0.2222222222222222,
             "#7201a8"
            ],
            [
             0.3333333333333333,
             "#9c179e"
            ],
            [
             0.4444444444444444,
             "#bd3786"
            ],
            [
             0.5555555555555556,
             "#d8576b"
            ],
            [
             0.6666666666666666,
             "#ed7953"
            ],
            [
             0.7777777777777778,
             "#fb9f3a"
            ],
            [
             0.8888888888888888,
             "#fdca26"
            ],
            [
             1,
             "#f0f921"
            ]
           ],
           "sequentialminus": [
            [
             0,
             "#0d0887"
            ],
            [
             0.1111111111111111,
             "#46039f"
            ],
            [
             0.2222222222222222,
             "#7201a8"
            ],
            [
             0.3333333333333333,
             "#9c179e"
            ],
            [
             0.4444444444444444,
             "#bd3786"
            ],
            [
             0.5555555555555556,
             "#d8576b"
            ],
            [
             0.6666666666666666,
             "#ed7953"
            ],
            [
             0.7777777777777778,
             "#fb9f3a"
            ],
            [
             0.8888888888888888,
             "#fdca26"
            ],
            [
             1,
             "#f0f921"
            ]
           ]
          },
          "colorway": [
           "#636efa",
           "#EF553B",
           "#00cc96",
           "#ab63fa",
           "#FFA15A",
           "#19d3f3",
           "#FF6692",
           "#B6E880",
           "#FF97FF",
           "#FECB52"
          ],
          "font": {
           "color": "#2a3f5f"
          },
          "geo": {
           "bgcolor": "white",
           "lakecolor": "white",
           "landcolor": "#E5ECF6",
           "showlakes": true,
           "showland": true,
           "subunitcolor": "white"
          },
          "hoverlabel": {
           "align": "left"
          },
          "hovermode": "closest",
          "mapbox": {
           "style": "light"
          },
          "paper_bgcolor": "white",
          "plot_bgcolor": "#E5ECF6",
          "polar": {
           "angularaxis": {
            "gridcolor": "white",
            "linecolor": "white",
            "ticks": ""
           },
           "bgcolor": "#E5ECF6",
           "radialaxis": {
            "gridcolor": "white",
            "linecolor": "white",
            "ticks": ""
           }
          },
          "scene": {
           "xaxis": {
            "backgroundcolor": "#E5ECF6",
            "gridcolor": "white",
            "gridwidth": 2,
            "linecolor": "white",
            "showbackground": true,
            "ticks": "",
            "zerolinecolor": "white"
           },
           "yaxis": {
            "backgroundcolor": "#E5ECF6",
            "gridcolor": "white",
            "gridwidth": 2,
            "linecolor": "white",
            "showbackground": true,
            "ticks": "",
            "zerolinecolor": "white"
           },
           "zaxis": {
            "backgroundcolor": "#E5ECF6",
            "gridcolor": "white",
            "gridwidth": 2,
            "linecolor": "white",
            "showbackground": true,
            "ticks": "",
            "zerolinecolor": "white"
           }
          },
          "shapedefaults": {
           "line": {
            "color": "#2a3f5f"
           }
          },
          "ternary": {
           "aaxis": {
            "gridcolor": "white",
            "linecolor": "white",
            "ticks": ""
           },
           "baxis": {
            "gridcolor": "white",
            "linecolor": "white",
            "ticks": ""
           },
           "bgcolor": "#E5ECF6",
           "caxis": {
            "gridcolor": "white",
            "linecolor": "white",
            "ticks": ""
           }
          },
          "title": {
           "x": 0.05
          },
          "xaxis": {
           "automargin": true,
           "gridcolor": "white",
           "linecolor": "white",
           "ticks": "",
           "title": {
            "standoff": 15
           },
           "zerolinecolor": "white",
           "zerolinewidth": 2
          },
          "yaxis": {
           "automargin": true,
           "gridcolor": "white",
           "linecolor": "white",
           "ticks": "",
           "title": {
            "standoff": 15
           },
           "zerolinecolor": "white",
           "zerolinewidth": 2
          }
         }
        },
        "title": {
         "text": "Paralelní souřadnice pro 10 nejlepších variant"
        }
       }
      }
     },
     "metadata": {},
     "output_type": "display_data"
    }
   ],
   "source": [
    "# 6. Interaktivní vizualizace pomocí Plotly\n",
    "# Paralelní souřadnice - umožňují vizualizovat mnohorozměrná data\n",
    "fig = px.parallel_coordinates(\n",
    "    df_sorted.head(10),\n",
    "    dimensions=['Cena nájmu (Kč/měsíc)', 'Vzdálenost od pracoviště (min)', 'Plocha bytu (m²)', \n",
    "                'Stav bytu (1-10)', 'Okolí a občanská vybavenost (1-10)', 'Hlučnost (dB)'],\n",
    "    color='Užitek',\n",
    "    color_continuous_scale=px.colors.sequential.Viridis,\n",
    "    title='Paralelní souřadnice pro 10 nejlepších variant',\n",
    "    labels={'Číslo inzerátu': 'Číslo inzerátu'}\n",
    ")\n",
    "fig.show()"
   ]
  },
  {
   "cell_type": "code",
   "execution_count": 9,
   "id": "8c3c4f31",
   "metadata": {},
   "outputs": [
    {
     "name": "stdout",
     "output_type": "stream",
     "text": [
      "\n",
      "Nejlepších 10 variant podle metody TOPSIS:\n"
     ]
    },
    {
     "data": {
      "text/html": [
       "<div>\n",
       "<style scoped>\n",
       "    .dataframe tbody tr th:only-of-type {\n",
       "        vertical-align: middle;\n",
       "    }\n",
       "\n",
       "    .dataframe tbody tr th {\n",
       "        vertical-align: top;\n",
       "    }\n",
       "\n",
       "    .dataframe thead th {\n",
       "        text-align: right;\n",
       "    }\n",
       "</style>\n",
       "<table border=\"1\" class=\"dataframe\">\n",
       "  <thead>\n",
       "    <tr style=\"text-align: right;\">\n",
       "      <th></th>\n",
       "      <th>Lokalita</th>\n",
       "      <th>C_i</th>\n",
       "    </tr>\n",
       "    <tr>\n",
       "      <th>Číslo inzerátu</th>\n",
       "      <th></th>\n",
       "      <th></th>\n",
       "    </tr>\n",
       "  </thead>\n",
       "  <tbody>\n",
       "    <tr>\n",
       "      <th>13905</th>\n",
       "      <td>Praha 7 - Letná</td>\n",
       "      <td>0.671566</td>\n",
       "    </tr>\n",
       "    <tr>\n",
       "      <th>54597</th>\n",
       "      <td>Praha 3 - Flora</td>\n",
       "      <td>0.668249</td>\n",
       "    </tr>\n",
       "    <tr>\n",
       "      <th>57052</th>\n",
       "      <td>Praha 2 - Náměstí Míru</td>\n",
       "      <td>0.657134</td>\n",
       "    </tr>\n",
       "    <tr>\n",
       "      <th>81482</th>\n",
       "      <td>Praha 5 - Smíchov</td>\n",
       "      <td>0.651904</td>\n",
       "    </tr>\n",
       "    <tr>\n",
       "      <th>22280</th>\n",
       "      <td>Praha 8 - Karlín</td>\n",
       "      <td>0.651740</td>\n",
       "    </tr>\n",
       "    <tr>\n",
       "      <th>36062</th>\n",
       "      <td>Praha 2 - Vyšehrad</td>\n",
       "      <td>0.650733</td>\n",
       "    </tr>\n",
       "    <tr>\n",
       "      <th>64987</th>\n",
       "      <td>Praha 5 - Anděl</td>\n",
       "      <td>0.650309</td>\n",
       "    </tr>\n",
       "    <tr>\n",
       "      <th>13278</th>\n",
       "      <td>Praha 2 - Vinohrady</td>\n",
       "      <td>0.646696</td>\n",
       "    </tr>\n",
       "    <tr>\n",
       "      <th>14165</th>\n",
       "      <td>Praha 7 - Holešovice</td>\n",
       "      <td>0.643746</td>\n",
       "    </tr>\n",
       "    <tr>\n",
       "      <th>88907</th>\n",
       "      <td>Praha 10 - Vršovice</td>\n",
       "      <td>0.631474</td>\n",
       "    </tr>\n",
       "  </tbody>\n",
       "</table>\n",
       "</div>"
      ],
      "text/plain": [
       "                              Lokalita       C_i\n",
       "Číslo inzerátu                                  \n",
       "13905                  Praha 7 - Letná  0.671566\n",
       "54597                  Praha 3 - Flora  0.668249\n",
       "57052           Praha 2 - Náměstí Míru  0.657134\n",
       "81482                Praha 5 - Smíchov  0.651904\n",
       "22280                 Praha 8 - Karlín  0.651740\n",
       "36062               Praha 2 - Vyšehrad  0.650733\n",
       "64987                  Praha 5 - Anděl  0.650309\n",
       "13278              Praha 2 - Vinohrady  0.646696\n",
       "14165             Praha 7 - Holešovice  0.643746\n",
       "88907              Praha 10 - Vršovice  0.631474"
      ]
     },
     "metadata": {},
     "output_type": "display_data"
    },
    {
     "name": "stdout",
     "output_type": "stream",
     "text": [
      "\n",
      "Porovnání pořadí nejlepších 10 variant podle metod WSA a TOPSIS:\n"
     ]
    },
    {
     "data": {
      "text/html": [
       "<div>\n",
       "<style scoped>\n",
       "    .dataframe tbody tr th:only-of-type {\n",
       "        vertical-align: middle;\n",
       "    }\n",
       "\n",
       "    .dataframe tbody tr th {\n",
       "        vertical-align: top;\n",
       "    }\n",
       "\n",
       "    .dataframe thead th {\n",
       "        text-align: right;\n",
       "    }\n",
       "</style>\n",
       "<table border=\"1\" class=\"dataframe\">\n",
       "  <thead>\n",
       "    <tr style=\"text-align: right;\">\n",
       "      <th></th>\n",
       "      <th>WSA_score</th>\n",
       "      <th>TOPSIS_score</th>\n",
       "      <th>Lokalita</th>\n",
       "    </tr>\n",
       "    <tr>\n",
       "      <th>Číslo inzerátu</th>\n",
       "      <th></th>\n",
       "      <th></th>\n",
       "      <th></th>\n",
       "    </tr>\n",
       "  </thead>\n",
       "  <tbody>\n",
       "    <tr>\n",
       "      <th>13278</th>\n",
       "      <td>0.632420</td>\n",
       "      <td>0.646696</td>\n",
       "      <td>Praha 2 - Vinohrady</td>\n",
       "    </tr>\n",
       "    <tr>\n",
       "      <th>64987</th>\n",
       "      <td>0.630742</td>\n",
       "      <td>0.650309</td>\n",
       "      <td>Praha 5 - Anděl</td>\n",
       "    </tr>\n",
       "    <tr>\n",
       "      <th>36062</th>\n",
       "      <td>0.628949</td>\n",
       "      <td>0.650733</td>\n",
       "      <td>Praha 2 - Vyšehrad</td>\n",
       "    </tr>\n",
       "    <tr>\n",
       "      <th>54597</th>\n",
       "      <td>0.625776</td>\n",
       "      <td>0.668249</td>\n",
       "      <td>Praha 3 - Flora</td>\n",
       "    </tr>\n",
       "    <tr>\n",
       "      <th>57052</th>\n",
       "      <td>0.620413</td>\n",
       "      <td>0.657134</td>\n",
       "      <td>Praha 2 - Náměstí Míru</td>\n",
       "    </tr>\n",
       "    <tr>\n",
       "      <th>13905</th>\n",
       "      <td>0.617057</td>\n",
       "      <td>0.671566</td>\n",
       "      <td>Praha 7 - Letná</td>\n",
       "    </tr>\n",
       "    <tr>\n",
       "      <th>54118</th>\n",
       "      <td>0.615686</td>\n",
       "      <td>NaN</td>\n",
       "      <td>Praha 7 - Bubeneč</td>\n",
       "    </tr>\n",
       "    <tr>\n",
       "      <th>38221</th>\n",
       "      <td>0.613393</td>\n",
       "      <td>NaN</td>\n",
       "      <td>Praha 6 - Petřiny</td>\n",
       "    </tr>\n",
       "    <tr>\n",
       "      <th>81426</th>\n",
       "      <td>0.612307</td>\n",
       "      <td>NaN</td>\n",
       "      <td>Praha 4 - Pankrác</td>\n",
       "    </tr>\n",
       "    <tr>\n",
       "      <th>87397</th>\n",
       "      <td>0.605267</td>\n",
       "      <td>NaN</td>\n",
       "      <td>Praha 6 - Dejvice</td>\n",
       "    </tr>\n",
       "  </tbody>\n",
       "</table>\n",
       "</div>"
      ],
      "text/plain": [
       "                WSA_score  TOPSIS_score                Lokalita\n",
       "Číslo inzerátu                                                 \n",
       "13278            0.632420      0.646696     Praha 2 - Vinohrady\n",
       "64987            0.630742      0.650309         Praha 5 - Anděl\n",
       "36062            0.628949      0.650733      Praha 2 - Vyšehrad\n",
       "54597            0.625776      0.668249         Praha 3 - Flora\n",
       "57052            0.620413      0.657134  Praha 2 - Náměstí Míru\n",
       "13905            0.617057      0.671566         Praha 7 - Letná\n",
       "54118            0.615686           NaN       Praha 7 - Bubeneč\n",
       "38221            0.613393           NaN       Praha 6 - Petřiny\n",
       "81426            0.612307           NaN       Praha 4 - Pankrác\n",
       "87397            0.605267           NaN       Praha 6 - Dejvice"
      ]
     },
     "metadata": {},
     "output_type": "display_data"
    },
    {
     "data": {
      "application/vnd.plotly.v1+json": {
       "config": {
        "plotlyServerURL": "https://plot.ly"
       },
       "data": [
        {
         "fill": "toself",
         "name": "Praha 2 - Vinohrady (Inzerát č.: 13278)",
         "r": [
          0.6052631578947368,
          0.696969696969697,
          0.39473684210526316,
          0.75,
          0.8,
          0.5
         ],
         "theta": [
          "Cena nájmu (Kč/měsíc)",
          "Vzdálenost od pracoviště (min)",
          "Plocha bytu (m²)",
          "Stav bytu (1-10)",
          "Okolí a občanská vybavenost (1-10)",
          "Hlučnost (dB)"
         ],
         "type": "scatterpolar"
        },
        {
         "fill": "toself",
         "name": "Praha 2 - Vyšehrad (Inzerát č.: 36062)",
         "r": [
          0.5986842105263158,
          0.7575757575757576,
          0.3684210526315789,
          0.75,
          0.6,
          0.7
         ],
         "theta": [
          "Cena nájmu (Kč/měsíc)",
          "Vzdálenost od pracoviště (min)",
          "Plocha bytu (m²)",
          "Stav bytu (1-10)",
          "Okolí a občanská vybavenost (1-10)",
          "Hlučnost (dB)"
         ],
         "type": "scatterpolar"
        },
        {
         "fill": "toself",
         "name": "Praha 5 - Anděl (Inzerát č.: 64987)",
         "r": [
          0.5263157894736842,
          0.8181818181818182,
          0.23684210526315788,
          1,
          0.8,
          0.3
         ],
         "theta": [
          "Cena nájmu (Kč/měsíc)",
          "Vzdálenost od pracoviště (min)",
          "Plocha bytu (m²)",
          "Stav bytu (1-10)",
          "Okolí a občanská vybavenost (1-10)",
          "Hlučnost (dB)"
         ],
         "type": "scatterpolar"
        }
       ],
       "layout": {
        "polar": {
         "radialaxis": {
          "range": [
           0,
           1
          ],
          "visible": true
         }
        },
        "showlegend": true,
        "template": {
         "data": {
          "bar": [
           {
            "error_x": {
             "color": "#2a3f5f"
            },
            "error_y": {
             "color": "#2a3f5f"
            },
            "marker": {
             "line": {
              "color": "#E5ECF6",
              "width": 0.5
             },
             "pattern": {
              "fillmode": "overlay",
              "size": 10,
              "solidity": 0.2
             }
            },
            "type": "bar"
           }
          ],
          "barpolar": [
           {
            "marker": {
             "line": {
              "color": "#E5ECF6",
              "width": 0.5
             },
             "pattern": {
              "fillmode": "overlay",
              "size": 10,
              "solidity": 0.2
             }
            },
            "type": "barpolar"
           }
          ],
          "carpet": [
           {
            "aaxis": {
             "endlinecolor": "#2a3f5f",
             "gridcolor": "white",
             "linecolor": "white",
             "minorgridcolor": "white",
             "startlinecolor": "#2a3f5f"
            },
            "baxis": {
             "endlinecolor": "#2a3f5f",
             "gridcolor": "white",
             "linecolor": "white",
             "minorgridcolor": "white",
             "startlinecolor": "#2a3f5f"
            },
            "type": "carpet"
           }
          ],
          "choropleth": [
           {
            "colorbar": {
             "outlinewidth": 0,
             "ticks": ""
            },
            "type": "choropleth"
           }
          ],
          "contour": [
           {
            "colorbar": {
             "outlinewidth": 0,
             "ticks": ""
            },
            "colorscale": [
             [
              0,
              "#0d0887"
             ],
             [
              0.1111111111111111,
              "#46039f"
             ],
             [
              0.2222222222222222,
              "#7201a8"
             ],
             [
              0.3333333333333333,
              "#9c179e"
             ],
             [
              0.4444444444444444,
              "#bd3786"
             ],
             [
              0.5555555555555556,
              "#d8576b"
             ],
             [
              0.6666666666666666,
              "#ed7953"
             ],
             [
              0.7777777777777778,
              "#fb9f3a"
             ],
             [
              0.8888888888888888,
              "#fdca26"
             ],
             [
              1,
              "#f0f921"
             ]
            ],
            "type": "contour"
           }
          ],
          "contourcarpet": [
           {
            "colorbar": {
             "outlinewidth": 0,
             "ticks": ""
            },
            "type": "contourcarpet"
           }
          ],
          "heatmap": [
           {
            "colorbar": {
             "outlinewidth": 0,
             "ticks": ""
            },
            "colorscale": [
             [
              0,
              "#0d0887"
             ],
             [
              0.1111111111111111,
              "#46039f"
             ],
             [
              0.2222222222222222,
              "#7201a8"
             ],
             [
              0.3333333333333333,
              "#9c179e"
             ],
             [
              0.4444444444444444,
              "#bd3786"
             ],
             [
              0.5555555555555556,
              "#d8576b"
             ],
             [
              0.6666666666666666,
              "#ed7953"
             ],
             [
              0.7777777777777778,
              "#fb9f3a"
             ],
             [
              0.8888888888888888,
              "#fdca26"
             ],
             [
              1,
              "#f0f921"
             ]
            ],
            "type": "heatmap"
           }
          ],
          "histogram": [
           {
            "marker": {
             "pattern": {
              "fillmode": "overlay",
              "size": 10,
              "solidity": 0.2
             }
            },
            "type": "histogram"
           }
          ],
          "histogram2d": [
           {
            "colorbar": {
             "outlinewidth": 0,
             "ticks": ""
            },
            "colorscale": [
             [
              0,
              "#0d0887"
             ],
             [
              0.1111111111111111,
              "#46039f"
             ],
             [
              0.2222222222222222,
              "#7201a8"
             ],
             [
              0.3333333333333333,
              "#9c179e"
             ],
             [
              0.4444444444444444,
              "#bd3786"
             ],
             [
              0.5555555555555556,
              "#d8576b"
             ],
             [
              0.6666666666666666,
              "#ed7953"
             ],
             [
              0.7777777777777778,
              "#fb9f3a"
             ],
             [
              0.8888888888888888,
              "#fdca26"
             ],
             [
              1,
              "#f0f921"
             ]
            ],
            "type": "histogram2d"
           }
          ],
          "histogram2dcontour": [
           {
            "colorbar": {
             "outlinewidth": 0,
             "ticks": ""
            },
            "colorscale": [
             [
              0,
              "#0d0887"
             ],
             [
              0.1111111111111111,
              "#46039f"
             ],
             [
              0.2222222222222222,
              "#7201a8"
             ],
             [
              0.3333333333333333,
              "#9c179e"
             ],
             [
              0.4444444444444444,
              "#bd3786"
             ],
             [
              0.5555555555555556,
              "#d8576b"
             ],
             [
              0.6666666666666666,
              "#ed7953"
             ],
             [
              0.7777777777777778,
              "#fb9f3a"
             ],
             [
              0.8888888888888888,
              "#fdca26"
             ],
             [
              1,
              "#f0f921"
             ]
            ],
            "type": "histogram2dcontour"
           }
          ],
          "mesh3d": [
           {
            "colorbar": {
             "outlinewidth": 0,
             "ticks": ""
            },
            "type": "mesh3d"
           }
          ],
          "parcoords": [
           {
            "line": {
             "colorbar": {
              "outlinewidth": 0,
              "ticks": ""
             }
            },
            "type": "parcoords"
           }
          ],
          "pie": [
           {
            "automargin": true,
            "type": "pie"
           }
          ],
          "scatter": [
           {
            "fillpattern": {
             "fillmode": "overlay",
             "size": 10,
             "solidity": 0.2
            },
            "type": "scatter"
           }
          ],
          "scatter3d": [
           {
            "line": {
             "colorbar": {
              "outlinewidth": 0,
              "ticks": ""
             }
            },
            "marker": {
             "colorbar": {
              "outlinewidth": 0,
              "ticks": ""
             }
            },
            "type": "scatter3d"
           }
          ],
          "scattercarpet": [
           {
            "marker": {
             "colorbar": {
              "outlinewidth": 0,
              "ticks": ""
             }
            },
            "type": "scattercarpet"
           }
          ],
          "scattergeo": [
           {
            "marker": {
             "colorbar": {
              "outlinewidth": 0,
              "ticks": ""
             }
            },
            "type": "scattergeo"
           }
          ],
          "scattergl": [
           {
            "marker": {
             "colorbar": {
              "outlinewidth": 0,
              "ticks": ""
             }
            },
            "type": "scattergl"
           }
          ],
          "scattermap": [
           {
            "marker": {
             "colorbar": {
              "outlinewidth": 0,
              "ticks": ""
             }
            },
            "type": "scattermap"
           }
          ],
          "scattermapbox": [
           {
            "marker": {
             "colorbar": {
              "outlinewidth": 0,
              "ticks": ""
             }
            },
            "type": "scattermapbox"
           }
          ],
          "scatterpolar": [
           {
            "marker": {
             "colorbar": {
              "outlinewidth": 0,
              "ticks": ""
             }
            },
            "type": "scatterpolar"
           }
          ],
          "scatterpolargl": [
           {
            "marker": {
             "colorbar": {
              "outlinewidth": 0,
              "ticks": ""
             }
            },
            "type": "scatterpolargl"
           }
          ],
          "scatterternary": [
           {
            "marker": {
             "colorbar": {
              "outlinewidth": 0,
              "ticks": ""
             }
            },
            "type": "scatterternary"
           }
          ],
          "surface": [
           {
            "colorbar": {
             "outlinewidth": 0,
             "ticks": ""
            },
            "colorscale": [
             [
              0,
              "#0d0887"
             ],
             [
              0.1111111111111111,
              "#46039f"
             ],
             [
              0.2222222222222222,
              "#7201a8"
             ],
             [
              0.3333333333333333,
              "#9c179e"
             ],
             [
              0.4444444444444444,
              "#bd3786"
             ],
             [
              0.5555555555555556,
              "#d8576b"
             ],
             [
              0.6666666666666666,
              "#ed7953"
             ],
             [
              0.7777777777777778,
              "#fb9f3a"
             ],
             [
              0.8888888888888888,
              "#fdca26"
             ],
             [
              1,
              "#f0f921"
             ]
            ],
            "type": "surface"
           }
          ],
          "table": [
           {
            "cells": {
             "fill": {
              "color": "#EBF0F8"
             },
             "line": {
              "color": "white"
             }
            },
            "header": {
             "fill": {
              "color": "#C8D4E3"
             },
             "line": {
              "color": "white"
             }
            },
            "type": "table"
           }
          ]
         },
         "layout": {
          "annotationdefaults": {
           "arrowcolor": "#2a3f5f",
           "arrowhead": 0,
           "arrowwidth": 1
          },
          "autotypenumbers": "strict",
          "coloraxis": {
           "colorbar": {
            "outlinewidth": 0,
            "ticks": ""
           }
          },
          "colorscale": {
           "diverging": [
            [
             0,
             "#8e0152"
            ],
            [
             0.1,
             "#c51b7d"
            ],
            [
             0.2,
             "#de77ae"
            ],
            [
             0.3,
             "#f1b6da"
            ],
            [
             0.4,
             "#fde0ef"
            ],
            [
             0.5,
             "#f7f7f7"
            ],
            [
             0.6,
             "#e6f5d0"
            ],
            [
             0.7,
             "#b8e186"
            ],
            [
             0.8,
             "#7fbc41"
            ],
            [
             0.9,
             "#4d9221"
            ],
            [
             1,
             "#276419"
            ]
           ],
           "sequential": [
            [
             0,
             "#0d0887"
            ],
            [
             0.1111111111111111,
             "#46039f"
            ],
            [
             0.2222222222222222,
             "#7201a8"
            ],
            [
             0.3333333333333333,
             "#9c179e"
            ],
            [
             0.4444444444444444,
             "#bd3786"
            ],
            [
             0.5555555555555556,
             "#d8576b"
            ],
            [
             0.6666666666666666,
             "#ed7953"
            ],
            [
             0.7777777777777778,
             "#fb9f3a"
            ],
            [
             0.8888888888888888,
             "#fdca26"
            ],
            [
             1,
             "#f0f921"
            ]
           ],
           "sequentialminus": [
            [
             0,
             "#0d0887"
            ],
            [
             0.1111111111111111,
             "#46039f"
            ],
            [
             0.2222222222222222,
             "#7201a8"
            ],
            [
             0.3333333333333333,
             "#9c179e"
            ],
            [
             0.4444444444444444,
             "#bd3786"
            ],
            [
             0.5555555555555556,
             "#d8576b"
            ],
            [
             0.6666666666666666,
             "#ed7953"
            ],
            [
             0.7777777777777778,
             "#fb9f3a"
            ],
            [
             0.8888888888888888,
             "#fdca26"
            ],
            [
             1,
             "#f0f921"
            ]
           ]
          },
          "colorway": [
           "#636efa",
           "#EF553B",
           "#00cc96",
           "#ab63fa",
           "#FFA15A",
           "#19d3f3",
           "#FF6692",
           "#B6E880",
           "#FF97FF",
           "#FECB52"
          ],
          "font": {
           "color": "#2a3f5f"
          },
          "geo": {
           "bgcolor": "white",
           "lakecolor": "white",
           "landcolor": "#E5ECF6",
           "showlakes": true,
           "showland": true,
           "subunitcolor": "white"
          },
          "hoverlabel": {
           "align": "left"
          },
          "hovermode": "closest",
          "mapbox": {
           "style": "light"
          },
          "paper_bgcolor": "white",
          "plot_bgcolor": "#E5ECF6",
          "polar": {
           "angularaxis": {
            "gridcolor": "white",
            "linecolor": "white",
            "ticks": ""
           },
           "bgcolor": "#E5ECF6",
           "radialaxis": {
            "gridcolor": "white",
            "linecolor": "white",
            "ticks": ""
           }
          },
          "scene": {
           "xaxis": {
            "backgroundcolor": "#E5ECF6",
            "gridcolor": "white",
            "gridwidth": 2,
            "linecolor": "white",
            "showbackground": true,
            "ticks": "",
            "zerolinecolor": "white"
           },
           "yaxis": {
            "backgroundcolor": "#E5ECF6",
            "gridcolor": "white",
            "gridwidth": 2,
            "linecolor": "white",
            "showbackground": true,
            "ticks": "",
            "zerolinecolor": "white"
           },
           "zaxis": {
            "backgroundcolor": "#E5ECF6",
            "gridcolor": "white",
            "gridwidth": 2,
            "linecolor": "white",
            "showbackground": true,
            "ticks": "",
            "zerolinecolor": "white"
           }
          },
          "shapedefaults": {
           "line": {
            "color": "#2a3f5f"
           }
          },
          "ternary": {
           "aaxis": {
            "gridcolor": "white",
            "linecolor": "white",
            "ticks": ""
           },
           "baxis": {
            "gridcolor": "white",
            "linecolor": "white",
            "ticks": ""
           },
           "bgcolor": "#E5ECF6",
           "caxis": {
            "gridcolor": "white",
            "linecolor": "white",
            "ticks": ""
           }
          },
          "title": {
           "x": 0.05
          },
          "xaxis": {
           "automargin": true,
           "gridcolor": "white",
           "linecolor": "white",
           "ticks": "",
           "title": {
            "standoff": 15
           },
           "zerolinecolor": "white",
           "zerolinewidth": 2
          },
          "yaxis": {
           "automargin": true,
           "gridcolor": "white",
           "linecolor": "white",
           "ticks": "",
           "title": {
            "standoff": 15
           },
           "zerolinecolor": "white",
           "zerolinewidth": 2
          }
         }
        },
        "title": {
         "text": "Porovnání vybraných variant - Paprskový graf"
        }
       }
      }
     },
     "metadata": {},
     "output_type": "display_data"
    }
   ],
   "source": [
    "# 7. TOPSIS metoda (Technique for Order Preference by Similarity to Ideal Solution)\n",
    "# Alternativní metoda vícekriteriálního rozhodování\n",
    "\n",
    "def topsis(df, weights, min_criteria, max_criteria):\n",
    "    # Vytvoření kopie DataFrame pro TOPSIS\n",
    "    df_topsis = df.copy()\n",
    "    \n",
    "    # 1. Normalizace pomocí vektorové normalizace\n",
    "    for col in min_criteria + max_criteria:\n",
    "        df_topsis[col] = df[col] / np.sqrt(sum(df[col]**2))\n",
    "    \n",
    "    # 2. Vážení normalizované matice\n",
    "    for col in min_criteria + max_criteria:\n",
    "        df_topsis[col] = df_topsis[col] * weights[col]\n",
    "    \n",
    "    # 3. Určení ideální a bazální (nejhorší) varianty\n",
    "    ideal = {}\n",
    "    basal = {}\n",
    "    \n",
    "    for col in min_criteria:\n",
    "        ideal[col] = df_topsis[col].min()  # Pro min kritéria je ideál minimum\n",
    "        basal[col] = df_topsis[col].max()  # Pro min kritéria je bazál maximum\n",
    "    \n",
    "    for col in max_criteria:\n",
    "        ideal[col] = df_topsis[col].max()  # Pro max kritéria je ideál maximum\n",
    "        basal[col] = df_topsis[col].min()  # Pro max kritéria je bazál minimum\n",
    "    \n",
    "    # 4. Výpočet vzdáleností od ideální a bazální varianty\n",
    "    df_topsis['D_ideal'] = np.sqrt(sum((df_topsis[col] - ideal[col])**2 for col in min_criteria + max_criteria))\n",
    "    df_topsis['D_basal'] = np.sqrt(sum((df_topsis[col] - basal[col])**2 for col in min_criteria + max_criteria))\n",
    "    \n",
    "    # 5. Výpočet relativní blízkosti k ideální variantě\n",
    "    df_topsis['C_i'] = df_topsis['D_basal'] / (df_topsis['D_ideal'] + df_topsis['D_basal'])\n",
    "    \n",
    "    # 6. Seřazení variant podle C_i (sestupně - čím vyšší, tím lepší)\n",
    "    df_topsis_sorted = df_topsis.sort_values('C_i', ascending=False).reset_index()\n",
    "    \n",
    "    return df_topsis_sorted\n",
    "\n",
    "# Aplikace TOPSIS metody\n",
    "topsis_results = topsis(df, weights, min_criteria, max_criteria)\n",
    "\n",
    "topsis_results_displayed = topsis_results.set_index('Číslo inzerátu')\n",
    "print(\"\\nNejlepších 10 variant podle metody TOPSIS:\")\n",
    "display(topsis_results_displayed[['Lokalita', 'C_i']].head(10))\n",
    "\n",
    "# Porovnání pořadí podle WSA a TOPSIS\n",
    "top_wsa = df_sorted[['Číslo inzerátu', 'Lokalita', 'Užitek']].head(10)\n",
    "top_topsis = topsis_results[['Číslo inzerátu', 'Lokalita', 'C_i']].head(10)\n",
    "\n",
    "comparison = pd.merge(\n",
    "    top_wsa[['Číslo inzerátu', 'Užitek']].rename(columns={'Užitek': 'WSA_score'}),\n",
    "    top_topsis[['Číslo inzerátu', 'C_i']].rename(columns={'C_i': 'TOPSIS_score'}),\n",
    "    on='Číslo inzerátu',\n",
    "    how='outer'\n",
    ")\n",
    "comparison = pd.merge(\n",
    "    comparison,\n",
    "    df.reset_index()[['Číslo inzerátu', 'Lokalita']],\n",
    "    on='Číslo inzerátu',\n",
    "    how='left'\n",
    ")\n",
    "\n",
    "comparison_displayed = comparison.set_index('Číslo inzerátu')\n",
    "print(\"\\nPorovnání pořadí nejlepších 10 variant podle metod WSA a TOPSIS:\")\n",
    "display(comparison_displayed.sort_values('WSA_score', ascending=False).head(10))\n",
    "\n",
    "def create_radar_chart(df, variant_inzerat_ids, criteria):\n",
    "    \"\"\"Vytvoří paprskový graf pro porovnání vybraných variant\"\"\"\n",
    "    # Normalizace dat pro radar chart (hodnoty 0-1)\n",
    "    df_radar = df.reset_index().copy()\n",
    "    \n",
    "    for col in criteria:\n",
    "        min_val = df[col].min()\n",
    "        max_val = df[col].max()\n",
    "        if col in min_criteria:\n",
    "            # Pro minimalizační kritéria: (max - x) / (max - min)\n",
    "            df_radar[col] = (max_val - df_radar[col]) / (max_val - min_val)\n",
    "        else:\n",
    "            # Pro maximalizační kritéria: (x - min) / (max - min)\n",
    "            df_radar[col] = (df_radar[col] - min_val) / (max_val - min_val)\n",
    "\n",
    "    # Výběr variant pro porovnání\n",
    "    selected_variants = df_radar[df_radar['Číslo inzerátu'].isin(variant_inzerat_ids)]\n",
    "    \n",
    "    # Vytvoření radar chart\n",
    "    fig = go.Figure()\n",
    "    \n",
    "    for _, row in selected_variants.iterrows():\n",
    "        fig.add_trace(go.Scatterpolar(\n",
    "            r=[row[c] for c in criteria],\n",
    "            theta=criteria,\n",
    "            fill='toself',\n",
    "            name=f\"{row['Lokalita']} (Inzerát č.: {row['Číslo inzerátu']})\"\n",
    "        ))\n",
    "    \n",
    "    fig.update_layout(\n",
    "        polar=dict(\n",
    "            radialaxis=dict(\n",
    "                visible=True,\n",
    "                range=[0, 1]\n",
    "            )\n",
    "        ),\n",
    "        title=\"Porovnání vybraných variant - Paprskový graf\",\n",
    "        showlegend=True\n",
    "    )\n",
    "    \n",
    "    return fig\n",
    "\n",
    "# Vybereme top 3 varianty podle WSA pro porovnání\n",
    "top_variants = list(df_sorted['Číslo inzerátu'].head(3))\n",
    "criteria_for_radar = ['Cena nájmu (Kč/měsíc)', 'Vzdálenost od pracoviště (min)', 'Plocha bytu (m²)', \n",
    "                      'Stav bytu (1-10)', 'Okolí a občanská vybavenost (1-10)', 'Hlučnost (dB)']\n",
    "\n",
    "radar_chart = create_radar_chart(df, top_variants, criteria_for_radar)\n",
    "radar_chart.show()"
   ]
  },
  {
   "cell_type": "code",
   "execution_count": 10,
   "id": "cfb96cd7",
   "metadata": {},
   "outputs": [
    {
     "name": "stdout",
     "output_type": "stream",
     "text": [
      "\n",
      "=== ZÁVĚREČNÉ DOPORUČENÍ ===\n",
      "Na základě vícekriteriální analýzy je nejvhodnější variantou byt s číslem inzerátu: 13278\n",
      "Lokalita: Praha 2 - Vinohrady\n",
      "Užitek podle metody WSA: 0.6324\n",
      "\n",
      "Hodnoty kritérií nejvhodnější varianty:\n",
      "- Cena nájmu (Kč/měsíc): 19800\n",
      "- Vzdálenost od pracoviště (min): 22\n",
      "- Hlučnost (dB): 56\n",
      "- Plocha bytu (m²): 55\n",
      "- Stav bytu (1-10): 8\n",
      "- Okolí a občanská vybavenost (1-10): 9\n",
      "\n",
      "Silné stránky vybrané varianty:\n",
      "- Nadprůměrná hodnota kritéria 'Stav bytu (1-10)'\n",
      "- Nadprůměrná hodnota kritéria 'Okolí a občanská vybavenost (1-10)'\n",
      "- Podprůměrná hodnota kritéria 'Vzdálenost od pracoviště (min)' (což je žádoucí)\n",
      "\n",
      "Doporučení:\n",
      "Doporučujeme prohlídku této nemovitosti a ověření všech údajů na místě.\n"
     ]
    }
   ],
   "source": [
    "# 8. Závěrečné shrnutí - doporučení nejlepší varianty\n",
    "best_variant = df_sorted.iloc[0]\n",
    "best_variant_details = df.loc[best_variant['Číslo inzerátu']]\n",
    "\n",
    "print(\"\\n=== ZÁVĚREČNÉ DOPORUČENÍ ===\")\n",
    "print(f\"Na základě vícekriteriální analýzy je nejvhodnější variantou byt s číslem inzerátu: {best_variant['Číslo inzerátu']}\")\n",
    "print(f\"Lokalita: {best_variant['Lokalita']}\")\n",
    "print(f\"Užitek podle metody WSA: {best_variant['Užitek']:.4f}\")\n",
    "\n",
    "print(\"\\nHodnoty kritérií nejvhodnější varianty:\")\n",
    "for criterion in min_criteria + max_criteria:\n",
    "    print(f\"- {criterion}: {best_variant_details[criterion]}\")\n",
    "\n",
    "print(\"\\nSilné stránky vybrané varianty:\")\n",
    "# Identifikace silných stránek (hodnoty nad průměrem u max kritérií, pod průměrem u min kritérií)\n",
    "for criterion in max_criteria:\n",
    "    if best_variant_details[criterion] > df[criterion].mean():\n",
    "        print(f\"- Nadprůměrná hodnota kritéria '{criterion}'\")\n",
    "for criterion in min_criteria:\n",
    "    if best_variant_details[criterion] < df[criterion].mean():\n",
    "        print(f\"- Podprůměrná hodnota kritéria '{criterion}' (což je žádoucí)\")\n",
    "\n",
    "print(\"\\nDoporučení:\")\n",
    "print(\"Doporučujeme prohlídku této nemovitosti a ověření všech údajů na místě.\")"
   ]
  }
 ],
 "metadata": {
  "kernelspec": {
   "display_name": ".venv",
   "language": "python",
   "name": "python3"
  },
  "language_info": {
   "codemirror_mode": {
    "name": "ipython",
    "version": 3
   },
   "file_extension": ".py",
   "mimetype": "text/x-python",
   "name": "python",
   "nbconvert_exporter": "python",
   "pygments_lexer": "ipython3",
   "version": "3.13.2"
  }
 },
 "nbformat": 4,
 "nbformat_minor": 5
}
